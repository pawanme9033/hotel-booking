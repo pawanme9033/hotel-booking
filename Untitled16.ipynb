{
  "nbformat": 4,
  "nbformat_minor": 0,
  "metadata": {
    "colab": {
      "provenance": [],
      "authorship_tag": "ABX9TyNAwBFCOyoo17V9aOtUs7mC",
      "include_colab_link": true
    },
    "kernelspec": {
      "name": "python3",
      "display_name": "Python 3"
    },
    "language_info": {
      "name": "python"
    }
  },
  "cells": [
    {
      "cell_type": "markdown",
      "metadata": {
        "id": "view-in-github",
        "colab_type": "text"
      },
      "source": [
        "<a href=\"https://colab.research.google.com/github/pawanme9033/hotel-booking/blob/main/Untitled16.ipynb\" target=\"_parent\"><img src=\"https://colab.research.google.com/assets/colab-badge.svg\" alt=\"Open In Colab\"/></a>"
      ]
    },
    {
      "cell_type": "markdown",
      "source": [
        "import numpy as np\n",
        "import matplotlib.pyplot as plt\n",
        "%matplotlib inline"
      ],
      "metadata": {
        "id": "pd5XXtVznCci"
      }
    },
    {
      "cell_type": "code",
      "source": [
        "import  numpy as np \n",
        "import  matplotlib.pyplot as plt \n",
        "%matplotlib inline\n"
      ],
      "metadata": {
        "id": "9wIYj6-tqqtC"
      },
      "execution_count": 40,
      "outputs": []
    },
    {
      "cell_type": "code",
      "source": [
        "# Detaset our dataset\n",
        "dataset = [1,54,64,6,4,46,16,46,4,135,6,4,164,1,65,4,64,6,4,6,54,4,6,16,46,1,64,16,46,46,46,46,65,64,46,43,68,68,44,64,6,46,56]"
      ],
      "metadata": {
        "id": "rrXftsW2rXzw"
      },
      "execution_count": 41,
      "outputs": []
    },
    {
      "cell_type": "code",
      "source": [
        "plt.hist(dataset)"
      ],
      "metadata": {
        "colab": {
          "base_uri": "https://localhost:8080/",
          "height": 499
        },
        "id": "RYeZzw87s-Nw",
        "outputId": "7efa8395-1782-4cdc-de74-02939d123b3c"
      },
      "execution_count": 42,
      "outputs": [
        {
          "output_type": "execute_result",
          "data": {
            "text/plain": [
              "(array([18.,  0., 11., 10.,  2.,  0.,  0.,  0.,  1.,  1.]),\n",
              " array([  1. ,  17.3,  33.6,  49.9,  66.2,  82.5,  98.8, 115.1, 131.4,\n",
              "        147.7, 164. ]),\n",
              " <BarContainer object of 10 artists>)"
            ]
          },
          "metadata": {},
          "execution_count": 42
        },
        {
          "output_type": "display_data",
          "data": {
            "text/plain": [
              "<Figure size 640x480 with 1 Axes>"
            ],
            "image/png": "[encoded data removed]"
          },
          "metadata": {}
        }
      ]
    },
    {
      "cell_type": "code",
      "source": [
        "# z score \n",
        "outliers = [ ]\n",
        "def datect_outliers(data):\n",
        "  threshold=3\n",
        "  mean = np.mean(data)\n",
        "  std= np.std(data)\n",
        "\n",
        "  for i in data:\n",
        "    z_score = ( i - mean)/ std\n",
        "    if np.abs(z_score)>threshold:\n",
        "      outliers.append(i)\n",
        "  return outliers"
      ],
      "metadata": {
        "id": "YfBarFXStWSv"
      },
      "execution_count": 43,
      "outputs": []
    },
    {
      "cell_type": "code",
      "source": [
        "datect_outliers(dataset)"
      ],
      "metadata": {
        "colab": {
          "base_uri": "https://localhost:8080/"
        },
        "id": "lc250B0iu8uy",
        "outputId": "aaa88136-7b92-4465-c863-b5d4909f0a12"
      },
      "execution_count": 44,
      "outputs": [
        {
          "output_type": "execute_result",
          "data": {
            "text/plain": [
              "[164]"
            ]
          },
          "metadata": {},
          "execution_count": 44
        }
      ]
    },
    {
      "cell_type": "code",
      "source": [
        "## iqr\n"
      ],
      "metadata": {
        "id": "q9ixInFMvlLu"
      },
      "execution_count": 45,
      "outputs": []
    },
    {
      "cell_type": "markdown",
      "source": [
        "## iqr\n",
        "1. sort the data\n",
        "2. Calculate q1 (25%) and Q2 (75%)\n",
        "3. iq(q3-q1)\n",
        "4. find the lower fance (q1-1.5(iqr))\n",
        "5. find the Upper fance (q3 + 1.5(iqr))\n"
      ],
      "metadata": {
        "id": "_Sj3Qe_wv7td"
      }
    },
    {
      "cell_type": "code",
      "source": [
        "# short dataset\n",
        "dataset = sorted(dataset)"
      ],
      "metadata": {
        "id": "gKqRTdbtw0mI"
      },
      "execution_count": 46,
      "outputs": []
    },
    {
      "cell_type": "code",
      "source": [
        "dataset\n"
      ],
      "metadata": {
        "colab": {
          "base_uri": "https://localhost:8080/"
        },
        "id": "5jtcdhdFxHgu",
        "outputId": "8a4f777a-297a-4209-8e28-219be3c4c0ae"
      },
      "execution_count": 47,
      "outputs": [
        {
          "output_type": "execute_result",
          "data": {
            "text/plain": [
              "[1,\n",
              " 1,\n",
              " 1,\n",
              " 4,\n",
              " 4,\n",
              " 4,\n",
              " 4,\n",
              " 4,\n",
              " 4,\n",
              " 6,\n",
              " 6,\n",
              " 6,\n",
              " 6,\n",
              " 6,\n",
              " 6,\n",
              " 16,\n",
              " 16,\n",
              " 16,\n",
              " 43,\n",
              " 44,\n",
              " 46,\n",
              " 46,\n",
              " 46,\n",
              " 46,\n",
              " 46,\n",
              " 46,\n",
              " 46,\n",
              " 46,\n",
              " 46,\n",
              " 54,\n",
              " 54,\n",
              " 56,\n",
              " 64,\n",
              " 64,\n",
              " 64,\n",
              " 64,\n",
              " 64,\n",
              " 65,\n",
              " 65,\n",
              " 68,\n",
              " 68,\n",
              " 135,\n",
              " 164]"
            ]
          },
          "metadata": {},
          "execution_count": 47
        }
      ]
    },
    {
      "cell_type": "code",
      "source": [
        "q1,q3 = np.percentile(dataset,[25,75])\n",
        "print(q1,q3)\n"
      ],
      "metadata": {
        "colab": {
          "base_uri": "https://localhost:8080/"
        },
        "id": "3M5Ixtl8xM68",
        "outputId": "d519da3c-6e09-4b1f-942f-104015a08b02"
      },
      "execution_count": 48,
      "outputs": [
        {
          "output_type": "stream",
          "name": "stdout",
          "text": [
            "6.0 60.0\n"
          ]
        }
      ]
    },
    {
      "cell_type": "code",
      "source": [
        "iqr = q3-q1"
      ],
      "metadata": {
        "id": "pCRuRMJ_xrQU"
      },
      "execution_count": 49,
      "outputs": []
    },
    {
      "cell_type": "code",
      "source": [
        "iqr"
      ],
      "metadata": {
        "colab": {
          "base_uri": "https://localhost:8080/"
        },
        "id": "iYQsR-EZxyF5",
        "outputId": "ce99d483-db51-4804-af4c-a3fdbe325ff1"
      },
      "execution_count": 50,
      "outputs": [
        {
          "output_type": "execute_result",
          "data": {
            "text/plain": [
              "54.0"
            ]
          },
          "metadata": {},
          "execution_count": 50
        }
      ]
    },
    {
      "cell_type": "code",
      "source": [
        "## find the lower and upper fance\n",
        "lower_fence=q1-(1.5*iqr)\n",
        "upper_fence = q3+(1.5*iqr)\n",
        "print(lower_fence,upper_fence)"
      ],
      "metadata": {
        "colab": {
          "base_uri": "https://localhost:8080/"
        },
        "id": "tK-GPrFcx1Ix",
        "outputId": "c92449e3-3df5-4167-f6ea-c9dd0e7cc58a"
      },
      "execution_count": 51,
      "outputs": [
        {
          "output_type": "stream",
          "name": "stdout",
          "text": [
            "-75.0 141.0\n"
          ]
        }
      ]
    },
    {
      "cell_type": "code",
      "source": [
        "import seaborn as sns"
      ],
      "metadata": {
        "id": "T4BCkyF0ysc6"
      },
      "execution_count": 52,
      "outputs": []
    },
    {
      "cell_type": "code",
      "source": [
        "sns.boxplot(dataset)"
      ],
      "metadata": {
        "colab": {
          "base_uri": "https://localhost:8080/",
          "height": 447
        },
        "id": "yehd8eqTy2hK",
        "outputId": "dcf0344d-eb7f-41b3-9ab9-710889ceeb21"
      },
      "execution_count": 53,
      "outputs": [
        {
          "output_type": "execute_result",
          "data": {
            "text/plain": [
              "<Axes: >"
            ]
          },
          "metadata": {},
          "execution_count": 53
        },
        {
          "output_type": "display_data",
          "data": {
            "text/plain": [
              "<Figure size 640x480 with 1 Axes>"
            ],
            "image/png": "[encoded data removed]"
          },
          "metadata": {}
        }
      ]
    },
    {
      "cell_type": "code",
      "source": [],
      "metadata": {
        "id": "YboLC8hazCf5"
      },
      "execution_count": 53,
      "outputs": []
    }
  ]
}